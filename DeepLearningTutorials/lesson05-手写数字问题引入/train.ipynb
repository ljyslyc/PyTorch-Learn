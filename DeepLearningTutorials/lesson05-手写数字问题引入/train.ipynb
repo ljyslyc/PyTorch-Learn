{
 "cells": [
  {
   "cell_type": "code",
   "execution_count": 1,
   "metadata": {},
   "outputs": [],
   "source": [
    "import torch \n",
    "from torch import nn\n",
    "from torch.nn import functional as F \n",
    "from torch import optim \n",
    "\n",
    "import torchvision\n",
    "from torchvision import transforms\n",
    "from matplotlib import pyplot as plt \n",
    "from  utils import plot_image,plot_curve,one_hot"
   ]
  },
  {
   "cell_type": "code",
   "execution_count": 2,
   "metadata": {},
   "outputs": [],
   "source": [
    "\n",
    "batch_size = 512\n"
   ]
  },
  {
   "cell_type": "code",
   "execution_count": 3,
   "metadata": {},
   "outputs": [],
   "source": [
    "train_loader = torch.utils.data.DataLoader(\n",
    "\t        torchvision.datasets.MNIST('mnist_data', train=True, download=True,\n",
    "\t                       transform=transforms.Compose([\n",
    "\t                           transforms.ToTensor(),\n",
    "\t                           transforms.Normalize((0.1307,), (0.3081,))\n",
    "\t                       ])),\n",
    "\t        batch_size = batch_size, shuffle=True)\n",
    "\n",
    "test_loader = torch.utils.data.DataLoader(\n",
    "\t        torchvision.datasets.MNIST('mnist_data/', train=False, download=True,\n",
    "\t                       transform=transforms.Compose([\n",
    "\t                           transforms.ToTensor(),\n",
    "\t                           transforms.Normalize((0.1307,), (0.3081,))\n",
    "\t                       ])),\n",
    "\t        batch_size = batch_size, shuffle=True)"
   ]
  },
  {
   "cell_type": "code",
   "execution_count": 4,
   "metadata": {},
   "outputs": [
    {
     "data": {
      "image/png": "[encoded data removed]",
      "text/plain": [
       "<Figure size 432x288 with 6 Axes>"
      ]
     },
     "metadata": {
      "needs_background": "light"
     },
     "output_type": "display_data"
    }
   ],
   "source": [
    "x , y  = next(iter(train_loader))\n",
    "plot_image(x,y,'image sample')"
   ]
  },
  {
   "cell_type": "code",
   "execution_count": 17,
   "metadata": {},
   "outputs": [
    {
     "name": "stdout",
     "output_type": "stream",
     "text": [
      "Train Epoch: 0 [0/60000 (0%)]\tLoss: 0.108918\n",
      "Train Epoch: 0 [1180/60000 (8%)]\tLoss: 0.100100\n",
      "Train Epoch: 0 [2360/60000 (17%)]\tLoss: 0.087078\n",
      "Train Epoch: 0 [3540/60000 (25%)]\tLoss: 0.108472\n",
      "Train Epoch: 0 [4720/60000 (34%)]\tLoss: 0.117489\n",
      "Train Epoch: 0 [5900/60000 (42%)]\tLoss: 0.108218\n",
      "Train Epoch: 0 [7080/60000 (51%)]\tLoss: 0.154819\n",
      "Train Epoch: 0 [8260/60000 (59%)]\tLoss: 0.235465\n",
      "Train Epoch: 0 [9440/60000 (68%)]\tLoss: 0.228088\n",
      "Train Epoch: 0 [10620/60000 (76%)]\tLoss: 0.385626\n",
      "Train Epoch: 0 [11800/60000 (85%)]\tLoss: 0.435558\n",
      "Train Epoch: 0 [12980/60000 (93%)]\tLoss: 0.395452\n",
      "Train Epoch: 1 [0/60000 (0%)]\tLoss: 1.667667\n",
      "Train Epoch: 1 [1180/60000 (8%)]\tLoss: 2.784725\n",
      "Train Epoch: 1 [2360/60000 (17%)]\tLoss: 1.637568\n",
      "Train Epoch: 1 [3540/60000 (25%)]\tLoss: 11.855001\n",
      "Train Epoch: 1 [4720/60000 (34%)]\tLoss: 18.784760\n",
      "Train Epoch: 1 [5900/60000 (42%)]\tLoss: 11.772890\n",
      "Train Epoch: 1 [7080/60000 (51%)]\tLoss: 86.967178\n",
      "Train Epoch: 1 [8260/60000 (59%)]\tLoss: 129.852676\n",
      "Train Epoch: 1 [9440/60000 (68%)]\tLoss: 87.312302\n",
      "Train Epoch: 1 [10620/60000 (76%)]\tLoss: 639.453003\n",
      "Train Epoch: 1 [11800/60000 (85%)]\tLoss: 896.729309\n",
      "Train Epoch: 1 [12980/60000 (93%)]\tLoss: 655.591675\n",
      "Train Epoch: 2 [0/60000 (0%)]\tLoss: 3586.861328\n",
      "Train Epoch: 2 [1180/60000 (8%)]\tLoss: 6778.106445\n",
      "Train Epoch: 2 [2360/60000 (17%)]\tLoss: 3611.900879\n",
      "Train Epoch: 2 [3540/60000 (25%)]\tLoss: 26630.800781\n",
      "Train Epoch: 2 [4720/60000 (34%)]\tLoss: 47250.960938\n",
      "Train Epoch: 2 [5900/60000 (42%)]\tLoss: 26377.628906\n",
      "Train Epoch: 2 [7080/60000 (51%)]\tLoss: 197316.656250\n",
      "Train Epoch: 2 [8260/60000 (59%)]\tLoss: 328734.156250\n",
      "Train Epoch: 2 [9440/60000 (68%)]\tLoss: 194455.343750\n",
      "Train Epoch: 2 [10620/60000 (76%)]\tLoss: 1458536.375000\n",
      "Train Epoch: 2 [11800/60000 (85%)]\tLoss: 2281759.750000\n",
      "Train Epoch: 2 [12980/60000 (93%)]\tLoss: 1445715.250000\n"
     ]
    },
    {
     "data": {
      "image/png": "[encoded data removed]",
      "text/plain": [
       "<Figure size 432x288 with 1 Axes>"
      ]
     },
     "metadata": {
      "needs_background": "light"
     },
     "output_type": "display_data"
    }
   ],
   "source": [
    "#创建网络\n",
    "class Net(nn.Module):\n",
    "    def __init__(self):\n",
    "        super(Net,self).__init__()\n",
    "        \n",
    "        #wx+b\n",
    "        self.fc1 = nn.Linear(28*28 ,256)\n",
    "        self.fc2 = nn.Linear(256,64)\n",
    "        self.fc3 = nn.Linear(64,10)\n",
    "    def forward(self , x):\n",
    "        x = F.relu(self.fc1(x))\n",
    "        x = F.relu(self.fc2(x))\n",
    "        x = self.fc3(x)\n",
    "        \n",
    "        return x\n",
    "#完成网络初始化\n",
    "net = Net()   \n",
    "optimizer = optim.SGD(net.parameters() , lr = 0.01 , momentum= 0.9)\n",
    "train_loss = []\n",
    "\n",
    "for epoch in range(3):\n",
    "    for batch_idx , ( x,y ) in enumerate(train_loader):\n",
    "        x = x.view(x.size(0),28*28)  \n",
    "        out = net(x)\n",
    "        y_oneHot = one_hot(y)\n",
    "        loss  =F.mse_loss(out , y_oneHot)\n",
    "        loss.backward()\n",
    "        optimizer.step()\n",
    "        train_loss.append(loss.item())\n",
    "        if batch_idx % 10 == 0:\n",
    "\t            print('Train Epoch: {} [{}/{} ({:.0f}%)]\\tLoss: {:.6f}'.format(\n",
    "\t                epoch, batch_idx * len(train_loader), len(train_loader.dataset),\n",
    "\t                100. * batch_idx / len(train_loader), loss.item()))\n",
    "plot_curve(train_loss)        "
   ]
  },
  {
   "cell_type": "code",
   "execution_count": null,
   "metadata": {},
   "outputs": [],
   "source": []
  }
 ],
 "metadata": {
  "kernelspec": {
   "display_name": "Python 3",
   "language": "python",
   "name": "python3"
  },
  "language_info": {
   "codemirror_mode": {
    "name": "ipython",
    "version": 3
   },
   "file_extension": ".py",
   "mimetype": "text/x-python",
   "name": "python",
   "nbconvert_exporter": "python",
   "pygments_lexer": "ipython3",
   "version": "3.6.7"
  },
  "varInspector": {
   "cols": {
    "lenName": 16,
    "lenType": 16,
    "lenVar": 40
   },
   "kernels_config": {
    "python": {
     "delete_cmd_postfix": "",
     "delete_cmd_prefix": "del ",
     "library": "var_list.py",
     "varRefreshCmd": "print(var_dic_list())"
    },
    "r": {
     "delete_cmd_postfix": ") ",
     "delete_cmd_prefix": "rm(",
     "library": "var_list.r",
     "varRefreshCmd": "cat(var_dic_list()) "
    }
   },
   "position": {
    "height": "160px",
    "left": "1310px",
    "right": "20px",
    "top": "120px",
    "width": "350px"
   },
   "types_to_exclude": [
    "module",
    "function",
    "builtin_function_or_method",
    "instance",
    "_Feature"
   ],
   "window_display": true
  }
 },
 "nbformat": 4,
 "nbformat_minor": 2
}
